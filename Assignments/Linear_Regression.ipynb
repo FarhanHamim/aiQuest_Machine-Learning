{
  "nbformat": 4,
  "nbformat_minor": 0,
  "metadata": {
    "colab": {
      "provenance": []
    },
    "kernelspec": {
      "name": "python3",
      "display_name": "Python 3"
    },
    "language_info": {
      "name": "python"
    }
  },
  "cells": [
    {
      "cell_type": "markdown",
      "source": [
        "###Task 01:\n",
        "Your objective is to manually compute the slope (M) and y-intercept (C) using\n",
        "Ordinary Least Squares Linear Regression. Once determined, apply these values to\n",
        "predict the price when the vegetable weight is 6.\n",
        "\n",
        "###Task 02:\n",
        "Compute the residuals for each data point.\n",
        "\n",
        "###Task 03:\n",
        "Calculate both the Mean Squared Error (MSE) and Mean Absolute Error (MAE).\n",
        "\n",
        "###Final Task:\n",
        "Generate an Excel file for the given dataset. Utilize Python for all the calculations.\n",
        "\n",
        "#####Note: To validate your manual calculations, use the entire dataset. It's unnecessary to split the dataset."
      ],
      "metadata": {
        "id": "uK-ek7R74x_F"
      }
    },
    {
      "cell_type": "code",
      "source": [
        "\n",
        "#Task-01\n",
        "\n",
        "import pandas as pd\n",
        "\n",
        "# Creating a dataframe\n",
        "data ={\n",
        "    \"Weight\": [2, 4, 5, 3, 6, 5, 7],\n",
        "    \"Price\": [35, 60, 20, 50, 50, 55, 60]}\n",
        "\n",
        "df = pd.DataFrame(data)\n",
        "\n",
        "# Calculating mean of weight and price\n",
        "\n",
        "mean_weight = df[\"Weight\"].mean()\n",
        "mean_price = df[\"Price\"].mean()\n",
        "\n",
        "# Calculating sum of squares for weight and price deviations from the mean\n",
        "\n",
        "weight_deviations = df[\"Weight\"] - mean_weight\n",
        "price_deviations = df[\"Price\"] - mean_price\n",
        "\n",
        "# Calculating product of deviations\n",
        "\n",
        "product_deviations = weight_deviations * price_deviations\n",
        "\n",
        "# Calculate total sum of products of deviations\n",
        "\n",
        "total_product_deviations = product_deviations.sum()\n",
        "\n",
        "# Calculate variance of weight\n",
        "\n",
        "weight_variance = (weight_deviations**2).sum()\n",
        "\n",
        "#m\n",
        "slope = total_product_deviations / weight_variance\n",
        "\n",
        "#c\n",
        "y_intercept = mean_price - (slope * mean_weight)\n",
        "\n",
        "print(\"Slope (M):\", slope)\n",
        "print(\"Y-intercept (C):\", y_intercept)\n",
        "\n",
        "#Predicted price for weight 6\n",
        "predicted_price = (slope * 6) + y_intercept\n",
        "print(\"Predicted price for weight 6:\", predicted_price)"
      ],
      "metadata": {
        "colab": {
          "base_uri": "https://localhost:8080/"
        },
        "id": "XdLpshCU8PjY",
        "outputId": "3c8b9dc2-b440-4319-9054-b594cc1d089b"
      },
      "execution_count": null,
      "outputs": [
        {
          "output_type": "stream",
          "name": "stdout",
          "text": [
            "Slope (M): 2.620967741935484\n",
            "Y-intercept (C): 35.16129032258065\n",
            "Predicted price for weight 6: 50.88709677419355\n"
          ]
        }
      ]
    },
    {
      "cell_type": "code",
      "source": [
        "#Task-02\n",
        "\n",
        "#Calculating residuals\n",
        "\n",
        "df[\"Residual\"] = df[\"Price\"] - ((slope * df[\"Weight\"]) + y_intercept)\n",
        "print(df)"
      ],
      "metadata": {
        "colab": {
          "base_uri": "https://localhost:8080/"
        },
        "id": "M3J0ASah9oij",
        "outputId": "ff2881e6-ccdc-403f-8380-66c99e3e2b82"
      },
      "execution_count": null,
      "outputs": [
        {
          "output_type": "stream",
          "name": "stdout",
          "text": [
            "   Weight  Price   Residual\n",
            "0       2     35  -5.403226\n",
            "1       4     60  14.354839\n",
            "2       5     20 -28.266129\n",
            "3       3     50   6.975806\n",
            "4       6     50  -0.887097\n",
            "5       5     55   6.733871\n",
            "6       7     60   6.491935\n"
          ]
        }
      ]
    },
    {
      "cell_type": "code",
      "source": [
        "#Task-03\n",
        "\n",
        "#Calculating MSE\n",
        "mse = ((df[\"Residual\"]**2).sum()) / len(df)\n",
        "\n",
        "#Calculating MAE\n",
        "mae = df[\"Residual\"].abs().mean()\n",
        "\n",
        "print(\"\\nMean Squared Error (MSE):\", mse)\n",
        "print(\"Mean Absolute Error (MAE):\", mae)"
      ],
      "metadata": {
        "colab": {
          "base_uri": "https://localhost:8080/"
        },
        "id": "7SI6Hjxp-WIO",
        "outputId": "7aa3d6c7-38fd-440d-ca2b-9512d9d28f0f"
      },
      "execution_count": null,
      "outputs": [
        {
          "output_type": "stream",
          "name": "stdout",
          "text": [
            "\n",
            "Mean Squared Error (MSE): 167.30990783410135\n",
            "Mean Absolute Error (MAE): 9.87327188940092\n"
          ]
        }
      ]
    },
    {
      "cell_type": "code",
      "source": [
        "#Final Task\n",
        "\n",
        "#Creating Excel file\n",
        "df.to_excel(\"linear_regression.xlsx\", index=False)\n",
        "\n",
        "print(\"Excel file generated successfully\")"
      ],
      "metadata": {
        "colab": {
          "base_uri": "https://localhost:8080/"
        },
        "id": "hPTi1VbY_6B6",
        "outputId": "0ae7e927-ff0e-4b72-eb0b-83831705a8bf"
      },
      "execution_count": null,
      "outputs": [
        {
          "output_type": "stream",
          "name": "stdout",
          "text": [
            "Excel file generated successfully\n"
          ]
        }
      ]
    }
  ]
}